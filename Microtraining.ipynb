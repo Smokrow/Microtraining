{
 "cells": [
  {
   "cell_type": "markdown",
   "metadata": {
    "slideshow": {
     "slide_type": "slide"
    }
   },
   "source": [
    "# Microtraining - Data-Analysis with Keras and Tensorflow"
   ]
  },
  {
   "cell_type": "markdown",
   "metadata": {
    "slideshow": {
     "slide_type": "slide"
    }
   },
   "source": [
    "# Getting started with feed forward neural networks\n"
   ]
  },
  {
   "cell_type": "markdown",
   "metadata": {
    "slideshow": {
     "slide_type": "subslide"
    }
   },
   "source": [
    "This Training will show the basics step you will need to perform, to get started with Deep Learning on your dataset. The main idea is to give you a short introduction into the most important stages of data analysis with neural networks. The main stages are: \n",
    "* Data preprocessing\n",
    "* Model setup\n",
    "* Model training\n",
    "* Model testing\n",
    "* (Inference)\n",
    "* (Deployment)"
   ]
  },
  {
   "cell_type": "markdown",
   "metadata": {
    "slideshow": {
     "slide_type": "slide"
    }
   },
   "source": [
    "## Tensorflow and Keras\n",
    "\n",
    "In this course we are using Tensorflow in combination with Keras as the main framework for our analysis. \n",
    "\n",
    "\n",
    "\n",
    "\n"
   ]
  },
  {
   "cell_type": "markdown",
   "metadata": {
    "slideshow": {
     "slide_type": "subslide"
    }
   },
   "source": [
    "### Tensorflow \n",
    "\n",
    "\n",
    "![Tensorflow](https://upload.wikimedia.org/wikipedia/commons/1/11/TensorFlowLogo.svg)\n",
    "\n"
   ]
  },
  {
   "cell_type": "markdown",
   "metadata": {
    "slideshow": {
     "slide_type": "subslide"
    }
   },
   "source": [
    "[Tensorflow](https://www.tensorflow.org/) is a opensource framework provided and developed for machine and deep learning. The main purpose is to provide an easy and effective way to manipulate and calculate tensors.  \n",
    "\n",
    "One of the key features of tensorflow is the ability to build computation graphs. These computation graphs can be build by using for example a High-Level language like Python. Afterwards these graphs are than initated and executed in C++.\n",
    "The image below shows such a typical computation. A Input Tensor \"flows\" through\" the graph."
   ]
  },
  {
   "cell_type": "markdown",
   "metadata": {
    "slideshow": {
     "slide_type": "subslide"
    }
   },
   "source": [
    "<img src=\"https://www.tensorflow.org/images/tensors_flowing.gif\" class=\"center\">\n",
    "<stlye>\n",
    ".center {\n",
    "    display: block;\n",
    "    margin-left: auto;\n",
    "    margin-right: auto;\n",
    "}\n"
   ]
  },
  {
   "cell_type": "markdown",
   "metadata": {
    "slideshow": {
     "slide_type": "slide"
    }
   },
   "source": [
    "\n",
    "### Keras\n",
    "\n",
    "<img src=\"https://s3.amazonaws.com/keras.io/img/keras-logo-2018-large-1200.png\" width=\"300\">\n",
    "\n"
   ]
  },
  {
   "cell_type": "markdown",
   "metadata": {
    "slideshow": {
     "slide_type": "subslide"
    }
   },
   "source": [
    "[Keras](https://keras.io/) is a wrapper library which provides an easy and highly abstracted interface for low level frameworks like Tensorflow. Standard layers like Dense layers or CNN layers are already included in Keras making it the goto framework if you want to build fast prototype network. Of course the great flexibilty Tensorflow can provide gets lost, when you use Keras but it is possible to combine these two frameworks since Keras is basically just a wrapper for Tensorflow.   \n",
    "\n",
    "\n",
    "In this workshop we will just import tensorflow since keras is part of tensorflow since Tensorflow 1.2."
   ]
  },
  {
   "cell_type": "code",
   "execution_count": 1,
   "metadata": {
    "slideshow": {
     "slide_type": "slide"
    }
   },
   "outputs": [],
   "source": [
    "#imports for the scripts\n",
    "import tensorflow as tf\n",
    "import matplotlib.pyplot as plt\n",
    "import numpy as np\n",
    "import cv2\n",
    "import scipy"
   ]
  },
  {
   "cell_type": "markdown",
   "metadata": {
    "slideshow": {
     "slide_type": "slide"
    }
   },
   "source": [
    "## Data preprocessing\n",
    "\n",
    "<img src=\"http://tomba.co/analysis-consult/images/data-cleansing.jpg\">\n",
    "\n"
   ]
  },
  {
   "cell_type": "code",
   "execution_count": null,
   "metadata": {
    "slideshow": {
     "slide_type": "skip"
    }
   },
   "outputs": [],
   "source": [
    "Data preprocessing is all about getting your data ready for your analysis. Normally this step takes about 80%-90% of the total time. \n",
    "\n",
    "When building neural networks you typically perform the following steps during this process:\n"
   ]
  },
  {
   "cell_type": "markdown",
   "metadata": {
    "slideshow": {
     "slide_type": "subslide"
    }
   },
   "source": [
    "* Loading your data\n",
    "* Removing unwanted or corrupted data\n",
    "* Matching your labels\n",
    "* Shuffel\n",
    "* Batch\n",
    "* Split"
   ]
  },
  {
   "cell_type": "markdown",
   "metadata": {
    "slideshow": {
     "slide_type": "slide"
    }
   },
   "source": [
    "## Data Loading"
   ]
  },
  {
   "cell_type": "markdown",
   "metadata": {
    "slideshow": {
     "slide_type": "slide"
    }
   },
   "source": []
  },
  {
   "cell_type": "markdown",
   "metadata": {
    "slideshow": {
     "slide_type": "subslide"
    }
   },
   "source": [
    "<img src=\"./pics_jupyter/Experimentaufbau.png\">"
   ]
  },
  {
   "cell_type": "markdown",
   "metadata": {
    "slideshow": {
     "slide_type": "skip"
    }
   },
   "source": [
    "The dataset was created by shifting the laser focus up and down on purpose."
   ]
  },
  {
   "cell_type": "markdown",
   "metadata": {
    "slideshow": {
     "slide_type": "subslide"
    }
   },
   "source": [
    "\n",
    "* 4000 PNG Images\n",
    "* 2 Classes (-1mm and 2mm)\n",
    "* seperated by folders\n",
    "\n"
   ]
  },
  {
   "cell_type": "markdown",
   "metadata": {
    "slideshow": {
     "slide_type": "fragment"
    }
   },
   "source": [
    "\n",
    "<img src=\"./fokus-1/0000.png\" align=\"left\"></img>"
   ]
  },
  {
   "cell_type": "code",
   "execution_count": 2,
   "metadata": {
    "slideshow": {
     "slide_type": "subslide"
    }
   },
   "outputs": [
    {
     "name": "stdout",
     "output_type": "stream",
     "text": [
      "./fokus-1\n",
      "Loading from folder:  ./fokus-1\n",
      "./fokus-1\\0000.png  loaded\n",
      "./fokus-1\\0100.png  loaded\n",
      "./fokus-1\\0200.png  loaded\n",
      "./fokus-1\\0300.png  loaded\n",
      "./fokus-1\\0400.png  loaded\n",
      "./fokus-1\\0500.png  loaded\n",
      "./fokus-1\\0600.png  loaded\n",
      "./fokus-1\\0700.png  loaded\n",
      "./fokus-1\\0800.png  loaded\n",
      "./fokus-1\\0900.png  loaded\n",
      "./fokus-1\\1000.png  loaded\n",
      "./fokus-1\\1100.png  loaded\n",
      "./fokus-1\\1200.png  loaded\n",
      "./fokus-1\\1300.png  loaded\n",
      "./fokus-1\\1400.png  loaded\n",
      "./fokus-1\\1500.png  loaded\n",
      "./fokus-1\\1600.png  loaded\n",
      "./fokus-1\\1700.png  loaded\n",
      "./fokus-1\\1800.png  loaded\n",
      "./fokus-1\\1900.png  loaded\n",
      "fokus-1 data shape:  (2000, 256, 256)\n",
      "./fokus+2\n",
      "Loading from folder:  ./fokus+2\n",
      "./fokus+2\\0000.png  loaded\n",
      "./fokus+2\\0100.png  loaded\n",
      "./fokus+2\\0200.png  loaded\n",
      "./fokus+2\\0300.png  loaded\n",
      "./fokus+2\\0400.png  loaded\n",
      "./fokus+2\\0500.png  loaded\n",
      "./fokus+2\\0600.png  loaded\n",
      "./fokus+2\\0700.png  loaded\n",
      "./fokus+2\\0800.png  loaded\n",
      "./fokus+2\\0900.png  loaded\n",
      "./fokus+2\\1000.png  loaded\n",
      "./fokus+2\\1100.png  loaded\n",
      "./fokus+2\\1200.png  loaded\n",
      "./fokus+2\\1300.png  loaded\n",
      "./fokus+2\\1400.png  loaded\n",
      "./fokus+2\\1500.png  loaded\n",
      "./fokus+2\\1600.png  loaded\n",
      "./fokus+2\\1700.png  loaded\n",
      "./fokus+2\\1800.png  loaded\n",
      "./fokus+2\\1900.png  loaded\n",
      "fokus+2 data shape:  (2000, 256, 256)\n"
     ]
    }
   ],
   "source": [
    "# Load datasets\n",
    "\n",
    "from PictureLoader import PictureLoader\n",
    "from IPython.display import clear_output\n",
    "\n",
    "Loader= PictureLoader()\n",
    "pics_1,pics_2=Loader.LoadPictures()\n"
   ]
  },
  {
   "cell_type": "code",
   "execution_count": 3,
   "metadata": {
    "slideshow": {
     "slide_type": "subslide"
    }
   },
   "outputs": [
    {
     "name": "stdout",
     "output_type": "stream",
     "text": [
      "10.94709147644043\n"
     ]
    },
    {
     "data": {
      "text/plain": [
       "<matplotlib.image.AxesImage at 0x19ed292ebe0>"
      ]
     },
     "execution_count": 3,
     "metadata": {},
     "output_type": "execute_result"
    },
    {
     "data": {
      "image/png": "[encoded data removed]",
      "text/plain": [
       "<Figure size 1080x720 with 2 Axes>"
      ]
     },
     "metadata": {
      "needs_background": "light"
     },
     "output_type": "display_data"
    }
   ],
   "source": [
    "print(np.mean(pics_1-pics_2))\n",
    "#Change me for different frames\n",
    "pic1_frame=0\n",
    "pic2_frame=0\n",
    "#Plotting\n",
    "plt.figure(figsize=(15,10))\n",
    "plt.subplot(2,2,1)\n",
    "plt.title(\"Focus 1\")\n",
    "plt.imshow(pics_1[pic1_frame,:,:],cmap=\"hot\")\n",
    "plt.subplot(2,2,2)\n",
    "plt.title(\"Focus 2\")\n",
    "plt.imshow(pics_2[pic2_frame,:,:],cmap=\"hot\")"
   ]
  },
  {
   "cell_type": "code",
   "execution_count": 4,
   "metadata": {
    "slideshow": {
     "slide_type": "slide"
    }
   },
   "outputs": [
    {
     "name": "stdout",
     "output_type": "stream",
     "text": [
      "Focus 1\n",
      " [[0 1]\n",
      " [0 1]\n",
      " [0 1]\n",
      " ...\n",
      " [0 1]\n",
      " [0 1]\n",
      " [0 1]]\n",
      "Focus 2\n",
      " [[1 0]\n",
      " [1 0]\n",
      " [1 0]\n",
      " ...\n",
      " [1 0]\n",
      " [1 0]\n",
      " [1 0]]\n"
     ]
    }
   ],
   "source": [
    "# Gernerate Labels\n",
    "labels_1=np.repeat([[0,1]],pics_1.shape[0],axis=0)\n",
    "labels_2=np.repeat([[1,0]],pics_2.shape[0],axis=0)\n",
    "print(\"Focus 1\\n\",labels_1)\n",
    "print(\"Focus 2\\n\",labels_2)"
   ]
  },
  {
   "cell_type": "code",
   "execution_count": 5,
   "metadata": {},
   "outputs": [],
   "source": [
    "# Create combined dataset\n",
    "\n",
    "images=np.append(pics_1,pics_2,axis=0)\n",
    "labels=np.append(labels_1,labels_2,axis=0)"
   ]
  },
  {
   "cell_type": "code",
   "execution_count": 6,
   "metadata": {},
   "outputs": [],
   "source": [
    "# Shuffle data\n",
    "rng_state = np.random.get_state()\n",
    "np.random.shuffle(images)\n",
    "np.random.set_state(rng_state)\n",
    "np.random.shuffle(labels)"
   ]
  },
  {
   "cell_type": "code",
   "execution_count": 46,
   "metadata": {},
   "outputs": [
    {
     "name": "stdout",
     "output_type": "stream",
     "text": [
      "(400, 256, 256)\n",
      "(400, 2)\n"
     ]
    }
   ],
   "source": [
    "# split train test\n",
    "train_percentage=0.1\n",
    "\n",
    "split=int(images.shape[0]*train_percentage)\n",
    "\n",
    "train_images=images[:split]\n",
    "test_images=images[split:]\n",
    "train_labels=labels[:split]\n",
    "test_labels=labels[split:]\n",
    "\n",
    "print(train_images.shape)\n",
    "print(train_labels.shape)\n",
    "\n"
   ]
  },
  {
   "cell_type": "code",
   "execution_count": 65,
   "metadata": {},
   "outputs": [],
   "source": [
    "# Build Architecture\n",
    "\n",
    "\n",
    "model = tf.keras.models.Sequential([\n",
    "  tf.keras.layers.Reshape((256,256,1),input_shape=(256,256)),\n",
    "  tf.keras.layers.AveragePooling2D(pool_size=(4, 4)),\n",
    "  tf.keras.layers.Flatten(),\n",
    "\n",
    "  tf.keras.layers.Dense(100, activation=tf.nn.relu),\n",
    "    \n",
    "\n",
    "  tf.keras.layers.Dense(2, activation=tf.nn.softmax)\n",
    "])\n",
    "\n",
    "# Model compilation\n",
    "model.compile('adam',\n",
    "              loss='mean_squared_error',\n",
    "              metrics=['accuracy'])"
   ]
  },
  {
   "cell_type": "code",
   "execution_count": 66,
   "metadata": {
    "slideshow": {
     "slide_type": "slide"
    }
   },
   "outputs": [
    {
     "name": "stdout",
     "output_type": "stream",
     "text": [
      "Epoch 1/5\n",
      "400/400 [==============================] - 4s 9ms/step - loss: 0.2753 - acc: 0.4825\n",
      "Epoch 2/5\n",
      "400/400 [==============================] - 1s 2ms/step - loss: 0.4815 - acc: 0.5175\n",
      "Epoch 3/5\n",
      "400/400 [==============================] - 1s 1ms/step - loss: 0.4823 - acc: 0.5175\n",
      "Epoch 4/5\n",
      "400/400 [==============================] - 1s 1ms/step - loss: 0.4824 - acc: 0.5175\n",
      "Epoch 5/5\n",
      "400/400 [==============================] - 1s 2ms/step - loss: 0.4824 - acc: 0.5175\n",
      "3600/3600 [==============================] - 6s 2ms/step\n"
     ]
    },
    {
     "data": {
      "text/plain": [
       "[0.5018139052391052, 0.49805555555555553]"
      ]
     },
     "execution_count": 66,
     "metadata": {},
     "output_type": "execute_result"
    }
   ],
   "source": [
    "# Training\n",
    "\n",
    "model.fit(train_images, train_labels,batch_size=400 , epochs=5,verbose=1)\n",
    "# Test\n",
    "model.evaluate(test_images, test_labels)\n"
   ]
  },
  {
   "cell_type": "code",
   "execution_count": 39,
   "metadata": {
    "slideshow": {
     "slide_type": "slide"
    }
   },
   "outputs": [],
   "source": []
  },
  {
   "cell_type": "markdown",
   "metadata": {
    "slideshow": {
     "slide_type": "slide"
    }
   },
   "source": [
    "Exercise:\n",
    "* Add more layers to your network and run it.\n",
    "* Increase the size of your network and run it.\n",
    "* run your training phase with 10 instead of 3 epochs.\n",
    "* change your train test ratio."
   ]
  },
  {
   "cell_type": "code",
   "execution_count": 8,
   "metadata": {
    "slideshow": {
     "slide_type": "slide"
    }
   },
   "outputs": [],
   "source": [
    "# Inference\n",
    "\n",
    "\n",
    "model = tf.keras.models.Sequential([\n",
    "  tf.keras.layers.Reshape((256,256,1),input_shape=(256,256)),\n",
    "  tf.keras.layers.MaxPooling2D(pool_size=(5, 5)),\n",
    "  tf.keras.layers.Conv2D(15, (40, 40), padding='same'),\n",
    "  tf.keras.layers.MaxPooling2D(pool_size=(2, 2)),\n",
    "  tf.keras.layers.Conv2D(15, (15, 15), padding='same'),\n",
    "  tf.keras.layers.Activation('relu'),\n",
    "  tf.keras.layers.Flatten(),\n",
    "  tf.keras.layers.Dense(5000, activation=tf.nn.relu),\n",
    "  tf.keras.layers.Dense(5000, activation=tf.nn.relu),\n",
    "  tf.keras.layers.Dense(2, activation=tf.nn.softmax)\n",
    "])\n",
    "#Optimizer\n",
    "rms_prop=tf.keras.optimizers.RMSprop(lr=0.1, rho=0.9, epsilon=None, decay=0.0)\n",
    "\n",
    "# Model compilation\n",
    "model.compile('adam',\n",
    "              loss='mean_squared_error',\n",
    "              metrics=['accuracy'])"
   ]
  },
  {
   "cell_type": "code",
   "execution_count": null,
   "metadata": {},
   "outputs": [],
   "source": []
  }
 ],
 "metadata": {
  "celltoolbar": "Slideshow",
  "kernelspec": {
   "display_name": "Python 3",
   "language": "python",
   "name": "python3"
  },
  "language_info": {
   "codemirror_mode": {
    "name": "ipython",
    "version": 3
   },
   "file_extension": ".py",
   "mimetype": "text/x-python",
   "name": "python",
   "nbconvert_exporter": "python",
   "pygments_lexer": "ipython3",
   "version": "3.6.6"
  }
 },
 "nbformat": 4,
 "nbformat_minor": 2
}
