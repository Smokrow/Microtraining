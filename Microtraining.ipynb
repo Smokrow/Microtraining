{
 "cells": [
  {
   "cell_type": "markdown",
   "metadata": {
    "slideshow": {
     "slide_type": "slide"
    }
   },
   "source": [
    "# Microtraining - Data-Analysis with Keras and Tensorflow"
   ]
  },
  {
   "cell_type": "markdown",
   "metadata": {
    "slideshow": {
     "slide_type": "slide"
    }
   },
   "source": [
    "# Getting started with feed forward neural networks\n"
   ]
  },
  {
   "cell_type": "markdown",
   "metadata": {
    "slideshow": {
     "slide_type": "slide"
    }
   },
   "source": [
    "This Training will show the basics step you will need to perform, to get started with Deep Learning on your dataset. The main idea is to give you a short introduction into the most important stages of data analysis with neural networks. The main stages are: \n",
    "* Data preprocessing\n",
    "* Model setup\n",
    "* Model training\n",
    "* Model testing\n",
    "* (Inference)\n",
    "* Deployment"
   ]
  },
  {
   "cell_type": "markdown",
   "metadata": {
    "slideshow": {
     "slide_type": "slide"
    }
   },
   "source": [
    "## Tensorflow and Keras\n",
    "\n",
    "In this course we are using Tensorflow in combination with Keras as the main framework for our analysis. \n",
    "\n",
    "### Tensorflow \n",
    "\n",
    "<img src=\"https://upload.wikimedia.org/wikipedia/commons/1/11/TensorFlowLogo.svg\">\n",
    "\n",
    "[Tensorflow](https://www.tensorflow.org/) is a opensource framework provided and developed for machine and deep learning. The main purpose is to provide an easy and effective way to manipulate and calculate tensors.  \n",
    "\n",
    "One of the key features of tensorflow is the ability to build computation graphs. These computation graphs can be build by using for example a High-Level language like Python. Afterwards these graphs are than initated and executed in C++.\n",
    "The image below shows such a typical computation. A Input Tensor \"flows\" through\" the graph.\n",
    "\n",
    "<img src=\"https://www.tensorflow.org/images/tensors_flowing.gif\">\n",
    "\n",
    "\n",
    "### Keras\n",
    "\n",
    "<img src=\"https://s3.amazonaws.com/keras.io/img/keras-logo-2018-large-1200.png\" width=\"300\">\n",
    "\n",
    "[Keras](https://keras.io/) is a wrapper library which provides an easy and highly abstracted interface for low level frameworks like Tensorflow. Standard layers like Dense layers or CNN layers are already included in Keras making it the goto framework if you want to build fast prototype network. Of course the great flexibilty Tensorflow can provide gets lost, when you use Keras but it is possible to combine these two frameworks since Keras is basically just a wrapper for Tensorflow.   \n",
    "\n",
    "\n",
    "In this workshop we will just import tensorflow since keras is part of tensorflow since Tensorflow 1.2."
   ]
  },
  {
   "cell_type": "code",
   "execution_count": 1,
   "metadata": {
    "slideshow": {
     "slide_type": "slide"
    }
   },
   "outputs": [],
   "source": [
    "#imports for the scripts\n",
    "import tensorflow as tf"
   ]
  },
  {
   "cell_type": "markdown",
   "metadata": {
    "slideshow": {
     "slide_type": "slide"
    }
   },
   "source": [
    "## Data preprocessing\n",
    "\n",
    "<img src=\"http://tomba.co/analysis-consult/images/data-cleansing.jpg\">\n",
    "\n",
    "Data preprocessing is all about getting your data ready for your analysis. Normally this step takes about 80%-90% of the total time. \n",
    "\n",
    "When building neural networks you typically perform the following steps during this process:\n",
    "* Loading your data\n",
    "* Removing unwanted or corrupted data\n",
    "* Matching your labels\n",
    "* Shuffel\n",
    "* Batch\n",
    "* Split"
   ]
  },
  {
   "cell_type": "code",
   "execution_count": 2,
   "metadata": {
    "slideshow": {
     "slide_type": "slide"
    }
   },
   "outputs": [],
   "source": [
    "# Load dataset\n",
    "mnist = tf.keras.datasets.mnist"
   ]
  },
  {
   "cell_type": "code",
   "execution_count": 5,
   "metadata": {
    "slideshow": {
     "slide_type": "slide"
    }
   },
   "outputs": [],
   "source": [
    "# Input Pipeline\n",
    "\n",
    "\n",
    "(x_train, y_train),(x_test, y_test) = mnist.load_data()\n",
    "x_train, x_test = x_train / 255.0, x_test / 255.0\n"
   ]
  },
  {
   "cell_type": "code",
   "execution_count": 6,
   "metadata": {
    "slideshow": {
     "slide_type": "slide"
    }
   },
   "outputs": [],
   "source": [
    "# Inference\n",
    "\n",
    "model = tf.keras.models.Sequential([\n",
    "  tf.keras.layers.Flatten(),\n",
    "  tf.keras.layers.Dense(512, activation=tf.nn.relu),\n",
    "  tf.keras.layers.Dropout(0.2),\n",
    "  tf.keras.layers.Dense(10, activation=tf.nn.softmax)\n",
    "])"
   ]
  },
  {
   "cell_type": "code",
   "execution_count": 7,
   "metadata": {
    "slideshow": {
     "slide_type": "slide"
    }
   },
   "outputs": [],
   "source": [
    "# Model compilation\n",
    "model.compile(optimizer='adam',\n",
    "              loss='sparse_categorical_crossentropy',\n",
    "              metrics=['accuracy'])"
   ]
  },
  {
   "cell_type": "code",
   "execution_count": 8,
   "metadata": {
    "slideshow": {
     "slide_type": "slide"
    }
   },
   "outputs": [
    {
     "name": "stdout",
     "output_type": "stream",
     "text": [
      "Epoch 1/5\n",
      "60000/60000 [==============================] - 20s 340us/step - loss: 0.2014 - acc: 0.9395\n",
      "Epoch 2/5\n",
      "60000/60000 [==============================] - 37s 618us/step - loss: 0.0819 - acc: 0.9749\n",
      "Epoch 3/5\n",
      "60000/60000 [==============================] - 37s 622us/step - loss: 0.0518 - acc: 0.9839\n",
      "Epoch 4/5\n",
      "60000/60000 [==============================] - 38s 633us/step - loss: 0.0367 - acc: 0.9883\n",
      "Epoch 5/5\n",
      "60000/60000 [==============================] - 36s 606us/step - loss: 0.0281 - acc: 0.9905\n"
     ]
    },
    {
     "data": {
      "text/plain": [
       "<tensorflow.python.keras.callbacks.History at 0x28e6f9a21d0>"
      ]
     },
     "execution_count": 8,
     "metadata": {},
     "output_type": "execute_result"
    }
   ],
   "source": [
    "# Training\n",
    "\n",
    "model.fit(x_train, y_train, epochs=5)\n"
   ]
  },
  {
   "cell_type": "code",
   "execution_count": 9,
   "metadata": {
    "slideshow": {
     "slide_type": "slide"
    }
   },
   "outputs": [
    {
     "name": "stdout",
     "output_type": "stream",
     "text": [
      "10000/10000 [==============================] - 1s 94us/step\n"
     ]
    },
    {
     "data": {
      "text/plain": [
       "[0.0693634459810739, 0.9797]"
      ]
     },
     "execution_count": 9,
     "metadata": {},
     "output_type": "execute_result"
    }
   ],
   "source": [
    "# Test\n",
    "\n",
    "model.evaluate(x_test, y_test)"
   ]
  },
  {
   "cell_type": "markdown",
   "metadata": {
    "slideshow": {
     "slide_type": "slide"
    }
   },
   "source": [
    "Todo:\n",
    "* add more layers to your network and compare the accuracy before and after\n",
    "* run your training phase with 10 instead of 3 epochs. Explain why the accuracy is dropping. Try adding a dropout layer afterwards\n",
    "* change your train test ratio"
   ]
  },
  {
   "cell_type": "code",
   "execution_count": null,
   "metadata": {},
   "outputs": [],
   "source": []
  },
  {
   "cell_type": "code",
   "execution_count": null,
   "metadata": {},
   "outputs": [],
   "source": []
  }
 ],
 "metadata": {
  "celltoolbar": "Slideshow",
  "kernelspec": {
   "display_name": "Python 3",
   "language": "python",
   "name": "python3"
  },
  "language_info": {
   "codemirror_mode": {
    "name": "ipython",
    "version": 3
   },
   "file_extension": ".py",
   "mimetype": "text/x-python",
   "name": "python",
   "nbconvert_exporter": "python",
   "pygments_lexer": "ipython3",
   "version": "3.6.6"
  }
 },
 "nbformat": 4,
 "nbformat_minor": 2
}
